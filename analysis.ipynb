{
 "cells": [
  {
   "cell_type": "code",
   "execution_count": 1,
   "id": "03520a43",
   "metadata": {},
   "outputs": [
    {
     "name": "stdout",
     "output_type": "stream",
     "text": [
      "pygame 2.6.1 (SDL 2.28.4, Python 3.13.5)\n",
      "Hello from the pygame community. https://www.pygame.org/contribute.html\n"
     ]
    },
    {
     "ename": "SystemExit",
     "evalue": "",
     "output_type": "error",
     "traceback": [
      "An exception has occurred, use %tb to see the full traceback.\n",
      "\u001b[0;31mSystemExit\u001b[0m\n"
     ]
    },
    {
     "name": "stderr",
     "output_type": "stream",
     "text": [
      "/opt/anaconda3/lib/python3.13/site-packages/IPython/core/interactiveshell.py:3585: UserWarning: To exit: use 'exit', 'quit', or Ctrl-D.\n",
      "  warn(\"To exit: use 'exit', 'quit', or Ctrl-D.\", stacklevel=1)\n"
     ]
    }
   ],
   "source": [
    "import pygame\n",
    "import random\n",
    "import sys\n",
    "\n",
    "# Init\n",
    "pygame.init()\n",
    "screen = pygame.display.set_mode((600, 400))\n",
    "pygame.display.set_caption(\"Whac-A-Mole\")\n",
    "clock = pygame.time.Clock()\n",
    "font = pygame.font.SysFont(None, 36)\n",
    "\n",
    "# Mole settings\n",
    "mole_radius = 30\n",
    "mole_pos = (0, 0)\n",
    "mole_visible = False\n",
    "mole_timer = 0\n",
    "score = 0\n",
    "show_time = 1000  # milliseconds\n",
    "\n",
    "def new_mole():\n",
    "    return (random.randint(50, 550), random.randint(50, 350))\n",
    "\n",
    "# Main game loop\n",
    "while True:\n",
    "    screen.fill((200, 255, 200))\n",
    "    now = pygame.time.get_ticks()\n",
    "\n",
    "    # Show new mole after delay\n",
    "    if not mole_visible and now - mole_timer > 1000:\n",
    "        mole_pos = new_mole()\n",
    "        mole_visible = True\n",
    "        mole_timer = now\n",
    "\n",
    "    for event in pygame.event.get():\n",
    "        if event.type == pygame.QUIT:\n",
    "            pygame.quit()\n",
    "            sys.exit()\n",
    "        elif event.type == pygame.MOUSEBUTTONDOWN and mole_visible:\n",
    "            mx, my = event.pos\n",
    "            dx = mx - mole_pos[0]\n",
    "            dy = my - mole_pos[1]\n",
    "            if dx**2 + dy**2 < mole_radius**2:\n",
    "                score += 1\n",
    "                mole_visible = False\n",
    "                mole_timer = now\n",
    "\n",
    "    # Draw mole if visible\n",
    "    if mole_visible and now - mole_timer < show_time:\n",
    "        pygame.draw.circle(screen, (150, 75, 0), mole_pos, mole_radius)\n",
    "    else:\n",
    "        mole_visible = False\n",
    "\n",
    "    # Draw score\n",
    "    text = font.render(f\"Score: {score}\", True, (0, 0, 0))\n",
    "    screen.blit(text, (10, 10))\n",
    "\n",
    "    pygame.display.flip()\n",
    "    clock.tick(60)\n"
   ]
  },
  {
   "cell_type": "code",
   "execution_count": null,
   "id": "89462e54",
   "metadata": {},
   "outputs": [],
   "source": []
  },
  {
   "cell_type": "code",
   "execution_count": null,
   "id": "0b410e27",
   "metadata": {},
   "outputs": [],
   "source": []
  }
 ],
 "metadata": {
  "kernelspec": {
   "display_name": "base",
   "language": "python",
   "name": "python3"
  },
  "language_info": {
   "codemirror_mode": {
    "name": "ipython",
    "version": 3
   },
   "file_extension": ".py",
   "mimetype": "text/x-python",
   "name": "python",
   "nbconvert_exporter": "python",
   "pygments_lexer": "ipython3",
   "version": "3.13.5"
  }
 },
 "nbformat": 4,
 "nbformat_minor": 5
}
